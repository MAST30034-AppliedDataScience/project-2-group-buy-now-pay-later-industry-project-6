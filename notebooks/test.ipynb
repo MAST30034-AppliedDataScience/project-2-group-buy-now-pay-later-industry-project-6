{
 "cells": [
  {
   "cell_type": "markdown",
   "metadata": {},
   "source": [
    "# ***Testing***\n",
    "\n",
    "### Notebook for testing code."
   ]
  },
  {
   "cell_type": "code",
   "execution_count": 1,
   "metadata": {},
   "outputs": [],
   "source": [
    "import os\n",
    "import sys\n",
    "import pandas as pd\n",
    "sys.path.append(\"../\")\n",
    "from pyspark.sql import SparkSession"
   ]
  },
  {
   "cell_type": "code",
   "execution_count": 2,
   "metadata": {},
   "outputs": [
    {
     "name": "stderr",
     "output_type": "stream",
     "text": [
      "24/08/27 10:59:11 WARN Utils: Your hostname, Nathans-MacBook-Air.local resolves to a loopback address: 127.0.0.1; using 10.13.61.114 instead (on interface en0)\n",
      "24/08/27 10:59:11 WARN Utils: Set SPARK_LOCAL_IP if you need to bind to another address\n",
      "Setting default log level to \"WARN\".\n",
      "To adjust logging level use sc.setLogLevel(newLevel). For SparkR, use setLogLevel(newLevel).\n",
      "24/08/27 10:59:11 WARN NativeCodeLoader: Unable to load native-hadoop library for your platform... using builtin-java classes where applicable\n"
     ]
    },
    {
     "name": "stderr",
     "output_type": "stream",
     "text": [
      "24/08/27 10:59:27 WARN GarbageCollectionMetrics: To enable non-built-in garbage collector(s) List(G1 Concurrent GC), users should configure it(them) to spark.eventLog.gcMetrics.youngGenerationGarbageCollectors or spark.eventLog.gcMetrics.oldGenerationGarbageCollectors\n"
     ]
    }
   ],
   "source": [
    "spark = (\n",
    "    SparkSession.builder.appName(\"test\")\n",
    "    .config(\"spark.sql.repl.eagerEval.enabled\", True) \n",
    "    .config(\"spark.sql.parquet.cacheMetadata\", \"true\")\n",
    "    .config(\"spark.sql.session.timeZone\", \"Etc/UTC\")\n",
    "    .getOrCreate()\n",
    ")"
   ]
  },
  {
   "cell_type": "code",
   "execution_count": 5,
   "metadata": {},
   "outputs": [],
   "source": [
    "consumer_df = spark.read.parquet(\"../data/tables/consumer_user_details.parquet\")\n",
    "merchants_df = spark.read.parquet(\"../data/tables/tbl_merchants.parquet\")"
   ]
  },
  {
   "cell_type": "code",
   "execution_count": 7,
   "metadata": {},
   "outputs": [
    {
     "data": {
      "text/html": [
       "<table border='1'>\n",
       "<tr><th>summary</th><th>user_id</th><th>consumer_id</th></tr>\n",
       "<tr><td>count</td><td>499999</td><td>499999</td></tr>\n",
       "<tr><td>mean</td><td>250000.0</td><td>750895.2123184246</td></tr>\n",
       "<tr><td>stddev</td><td>144337.422959767</td><td>433100.42601411033</td></tr>\n",
       "<tr><td>min</td><td>1</td><td>4</td></tr>\n",
       "<tr><td>max</td><td>499999</td><td>1499995</td></tr>\n",
       "</table>\n"
      ],
      "text/plain": [
       "+-------+----------------+------------------+\n",
       "|summary|         user_id|       consumer_id|\n",
       "+-------+----------------+------------------+\n",
       "|  count|          499999|            499999|\n",
       "|   mean|        250000.0| 750895.2123184246|\n",
       "| stddev|144337.422959767|433100.42601411033|\n",
       "|    min|               1|                 4|\n",
       "|    max|          499999|           1499995|\n",
       "+-------+----------------+------------------+"
      ]
     },
     "execution_count": 7,
     "metadata": {},
     "output_type": "execute_result"
    }
   ],
   "source": [
    "consumer_df.describe()"
   ]
  },
  {
   "cell_type": "code",
   "execution_count": 6,
   "metadata": {},
   "outputs": [
    {
     "data": {
      "text/html": [
       "<table border='1'>\n",
       "<tr><th>summary</th><th>name</th><th>tags</th><th>merchant_abn</th></tr>\n",
       "<tr><td>count</td><td>4026</td><td>4026</td><td>4026</td></tr>\n",
       "<tr><td>mean</td><td>NULL</td><td>NULL</td><td>5.446186755874988E10</td></tr>\n",
       "<tr><td>stddev</td><td>NULL</td><td>NULL</td><td>2.598938766039736E10</td></tr>\n",
       "<tr><td>min</td><td>A Aliquet Ltd</td><td>((Artist supply a...</td><td>10023283211</td></tr>\n",
       "<tr><td>max</td><td>Vulputate Velit Inc.</td><td>[[watch, clock, a...</td><td>99990536339</td></tr>\n",
       "</table>\n"
      ],
      "text/plain": [
       "+-------+--------------------+--------------------+--------------------+\n",
       "|summary|                name|                tags|        merchant_abn|\n",
       "+-------+--------------------+--------------------+--------------------+\n",
       "|  count|                4026|                4026|                4026|\n",
       "|   mean|                NULL|                NULL|5.446186755874988E10|\n",
       "| stddev|                NULL|                NULL|2.598938766039736E10|\n",
       "|    min|       A Aliquet Ltd|((Artist supply a...|         10023283211|\n",
       "|    max|Vulputate Velit Inc.|[[watch, clock, a...|         99990536339|\n",
       "+-------+--------------------+--------------------+--------------------+"
      ]
     },
     "execution_count": 6,
     "metadata": {},
     "output_type": "execute_result"
    }
   ],
   "source": [
    "merchants_df.describe()"
   ]
  }
 ],
 "metadata": {
  "kernelspec": {
   "display_name": "base",
   "language": "python",
   "name": "python3"
  },
  "language_info": {
   "codemirror_mode": {
    "name": "ipython",
    "version": 3
   },
   "file_extension": ".py",
   "mimetype": "text/x-python",
   "name": "python",
   "nbconvert_exporter": "python",
   "pygments_lexer": "ipython3",
   "version": "3.12.4"
  }
 },
 "nbformat": 4,
 "nbformat_minor": 2
}
