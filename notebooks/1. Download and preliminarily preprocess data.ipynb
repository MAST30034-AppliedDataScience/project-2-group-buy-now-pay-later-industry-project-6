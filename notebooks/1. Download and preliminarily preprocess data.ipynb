{
 "cells": [
  {
   "cell_type": "markdown",
   "metadata": {},
   "source": [
    "# Download data"
   ]
  },
  {
   "cell_type": "code",
   "execution_count": 2,
   "metadata": {},
   "outputs": [],
   "source": [
    "import os\n",
    "import sys\n",
    "import pandas as pd\n",
    "sys.path.append(\"../\")\n",
    "from pyspark.sql import SparkSession\n",
    "from scripts.download import download_synthetic"
   ]
  },
  {
   "cell_type": "code",
   "execution_count": 3,
   "metadata": {},
   "outputs": [],
   "source": [
    "# download_synthetic()"
   ]
  },
  {
   "cell_type": "code",
   "execution_count": 4,
   "metadata": {},
   "outputs": [
    {
     "name": "stderr",
     "output_type": "stream",
     "text": [
      "Setting default log level to \"WARN\".\n",
      "To adjust logging level use sc.setLogLevel(newLevel). For SparkR, use setLogLevel(newLevel).\n",
      "24/09/29 20:26:29 WARN NativeCodeLoader: Unable to load native-hadoop library for your platform... using builtin-java classes where applicable\n",
      "24/09/29 20:26:29 WARN Utils: Service 'SparkUI' could not bind on port 4040. Attempting port 4041.\n",
      "                                                                                \r"
     ]
    }
   ],
   "source": [
    "# Initialize Spark Session\n",
    "spark = SparkSession.builder \\\n",
    "    .appName(\"YourAppName\")  \\\n",
    "    .config(\"spark.executor.memory\", \"4g\") \\\n",
    "    .config(\"spark.executor.cores\", \"2\") \\\n",
    "    .getOrCreate()\n",
    "\n",
    "# Load data using spark\n",
    "consumer_details = spark.read.parquet(\"../data/tables/consumer_user_details.parquet\")\n",
    "merchants = spark.read.parquet(\"../data/tables/tbl_merchants.parquet\")\n",
    "consumer_fraud = spark.read.csv(\"../data/tables/consumer_fraud_probability.csv\", header=True, inferSchema=True)\n",
    "\n",
    "# Load pandas data frame\n",
    "merchants_fraud = pd.read_csv(\"../data/tables/merchant_fraud_probability.csv\")\n",
    "consumer = pd.read_csv(\"../data/tables/tbl_consumer.csv\", sep=\"|\")\n",
    "\n",
    "# Read Parquet data\n",
    "transaction_1 = spark.read.parquet(\"../data/tables/transactions_20210228_20210827_snapshot\")\n",
    "transaction_2 = spark.read.parquet(\"../data/tables/transactions_20210828_20220227_snapshot\")\n",
    "transaction_3 = spark.read.parquet(\"../data/tables/transactions_20220228_20220828_snapshot\")\n",
    "\n",
    "# Union the transactions data\n",
    "transactions = transaction_1.union(transaction_2).union(transaction_3)"
   ]
  },
  {
   "cell_type": "code",
   "execution_count": 5,
   "metadata": {},
   "outputs": [
    {
     "name": "stderr",
     "output_type": "stream",
     "text": [
      "                                                                                \r"
     ]
    },
    {
     "name": "stdout",
     "output_type": "stream",
     "text": [
      "Dataset Sizes (Rows, Columns): \n",
      "\n",
      "       \t Transactions Data  : (14195505, 5) \n",
      "       \t Merchant Records   : (4026, 3) \n",
      "       \t Consumer Data      : (name           499999\n",
      "address        499999\n",
      "state          499999\n",
      "postcode       499999\n",
      "gender         499999\n",
      "consumer_id    499999\n",
      "dtype: int64, 6) \n",
      "       \t User Information   : (499999, 2) \n",
      "       \t Fraud Probabilities: (34864, 3) \n",
      "\n"
     ]
    }
   ],
   "source": [
    "# Print dataset shapes (Rows, Columns)\n",
    "print(f\"Dataset Sizes (Rows, Columns): \\n\\n \\\n",
    "      \\t Transactions Data  : {(transactions.count(), len(transactions.columns))} \\n \\\n",
    "      \\t Merchant Records   : {(merchants.count(), len(merchants.columns))} \\n \\\n",
    "      \\t Consumer Data      : {(consumer.count(), len(consumer.columns))} \\n \\\n",
    "      \\t User Information   : {(consumer_details.count(), len(consumer_details.columns))} \\n \\\n",
    "      \\t Fraud Probabilities: {(consumer_fraud.count(), len(consumer_fraud.columns))} \\n\")"
   ]
  },
  {
   "cell_type": "code",
   "execution_count": 6,
   "metadata": {},
   "outputs": [
    {
     "name": "stdout",
     "output_type": "stream",
     "text": [
      "First 3 rows of consumer_details:\n",
      "+-------+-----------+\n",
      "|user_id|consumer_id|\n",
      "+-------+-----------+\n",
      "|      1|    1195503|\n",
      "|      2|     179208|\n",
      "|      3|    1194530|\n",
      "+-------+-----------+\n",
      "only showing top 3 rows\n",
      "\n",
      "\n",
      "First 3 rows of merchants:\n",
      "+--------------------+--------------------+------------+\n",
      "|                name|                tags|merchant_abn|\n",
      "+--------------------+--------------------+------------+\n",
      "|       Felis Limited|((furniture, home...| 10023283211|\n",
      "|Arcu Ac Orci Corp...|([cable, satellit...| 10142254217|\n",
      "|    Nunc Sed Company|([jewelry, watch,...| 10165489824|\n",
      "+--------------------+--------------------+------------+\n",
      "only showing top 3 rows\n",
      "\n",
      "\n",
      "First 3 rows of consumer_fraud:\n",
      "+-------+--------------+-----------------+\n",
      "|user_id|order_datetime|fraud_probability|\n",
      "+-------+--------------+-----------------+\n",
      "|   6228|    2021-12-19| 97.6298077657765|\n",
      "|  21419|    2021-12-10|99.24738020302328|\n",
      "|   5606|    2021-10-17|84.05825045251777|\n",
      "+-------+--------------+-----------------+\n",
      "only showing top 3 rows\n",
      "\n",
      "\n",
      "First 3 rows of merchants_fraud:\n",
      "   merchant_abn order_datetime  fraud_probability\n",
      "0   19492220327     2021-11-28          44.403659\n",
      "1   31334588839     2021-10-02          42.755301\n",
      "2   19492220327     2021-12-22          38.867790\n",
      "\n",
      "First 3 rows of consumer:\n",
      "               name                     address state  postcode  gender  \\\n",
      "0  Yolanda Williams  413 Haney Gardens Apt. 742    WA      6935  Female   \n",
      "1        Mary Smith             3764 Amber Oval   NSW      2782  Female   \n",
      "2     Jill Jones MD          40693 Henry Greens    NT       862  Female   \n",
      "\n",
      "   consumer_id  \n",
      "0      1195503  \n",
      "1       179208  \n",
      "2      1194530  \n"
     ]
    }
   ],
   "source": [
    "# Show first 3 rows of each dataframe\n",
    "print(\"First 3 rows of consumer_details:\")\n",
    "consumer_details.show(3)\n",
    "\n",
    "print(\"\\nFirst 3 rows of merchants:\")\n",
    "merchants.show(3)\n",
    "\n",
    "print(\"\\nFirst 3 rows of consumer_fraud:\")\n",
    "consumer_fraud.show(3)\n",
    "\n",
    "print(\"\\nFirst 3 rows of merchants_fraud:\")\n",
    "print(merchants_fraud.head(3))\n",
    "\n",
    "print(\"\\nFirst 3 rows of consumer:\")\n",
    "print(consumer.head(3))"
   ]
  },
  {
   "cell_type": "code",
   "execution_count": 7,
   "metadata": {},
   "outputs": [
    {
     "name": "stdout",
     "output_type": "stream",
     "text": [
      "\n",
      "First 3 rows of transactions:\n",
      "[Row(user_id=18478, merchant_abn=62191208634, dollar_value=63.255848959735246, order_id='949a63c8-29f7-4ab0-ada4-99ac50a88952', order_datetime=datetime.date(2021, 8, 20)), Row(user_id=2, merchant_abn=15549624934, dollar_value=130.3505283105634, order_id='6a84c3cf-612a-4574-835b-144a47353eff', order_datetime=datetime.date(2021, 8, 20)), Row(user_id=18479, merchant_abn=64403598239, dollar_value=120.15860593212783, order_id='b10dcc33-e53f-4254-863c-de5266810cbc', order_datetime=datetime.date(2021, 8, 20))]\n"
     ]
    }
   ],
   "source": [
    "print(\"\\nFirst 3 rows of transactions:\")\n",
    "print(transactions.head(3))"
   ]
  },
  {
   "cell_type": "markdown",
   "metadata": {},
   "source": [
    "# ***Preprocess transaction***"
   ]
  },
  {
   "cell_type": "code",
   "execution_count": 8,
   "metadata": {},
   "outputs": [
    {
     "data": {
      "text/plain": [
       "DataFrame[summary: string, user_id: string, merchant_abn: string, dollar_value: string, order_id: string]"
      ]
     },
     "execution_count": 8,
     "metadata": {},
     "output_type": "execute_result"
    }
   ],
   "source": [
    "transactions.describe()"
   ]
  },
  {
   "cell_type": "code",
   "execution_count": 9,
   "metadata": {},
   "outputs": [
    {
     "name": "stderr",
     "output_type": "stream",
     "text": [
      "24/09/29 20:26:44 WARN GarbageCollectionMetrics: To enable non-built-in garbage collector(s) List(G1 Concurrent GC), users should configure it(them) to spark.eventLog.gcMetrics.youngGenerationGarbageCollectors or spark.eventLog.gcMetrics.oldGenerationGarbageCollectors\n"
     ]
    },
    {
     "data": {
      "image/png": "[encoded data removed]",
      "text/plain": [
       "<Figure size 1000x600 with 1 Axes>"
      ]
     },
     "metadata": {},
     "output_type": "display_data"
    }
   ],
   "source": [
    "import matplotlib.pyplot as plt\n",
    "\n",
    "dollar_values = transactions.select(\"dollar_value\").sample(fraction=0.2).toPandas()\n",
    "\n",
    "# Plotting the distribution of transaction dollar values\n",
    "plt.figure(figsize=(10,6))\n",
    "plt.hist(dollar_values['dollar_value'], bins=50, edgecolor='k', alpha=0.7)\n",
    "plt.title(\"Distribution of Transaction Dollar Values\")\n",
    "plt.xlabel(\"Dollar Value\")\n",
    "plt.ylabel(\"Frequency\")\n",
    "plt.grid(True)\n",
    "plt.show()"
   ]
  },
  {
   "cell_type": "markdown",
   "metadata": {},
   "source": [
    "### We observe close to 0 transaction, which is very unlikely due to the lack of product in the range and rational consumer shouldn't lend money for such a small purchase. More than 100,000 dollar transaction also appear, which is unlikely and won't be taken into consideration as the BNPL industry ban transactions of more than few thousands due to the risk involve. Both of these are abnormal and can be sign of fraudulent."
   ]
  },
  {
   "cell_type": "markdown",
   "metadata": {},
   "source": [
    "#### We thus remove outlier. Outliers are defined as data points that fall outside range:\n",
    "𝑄\n",
    "1\n",
    "−\n",
    "1.5\n",
    "×\n",
    "IQR\n",
    "and above:\n",
    "𝑄\n",
    "3\n",
    "+\n",
    "1.5\n",
    "×\n",
    "IQR"
   ]
  },
  {
   "cell_type": "code",
   "execution_count": 10,
   "metadata": {},
   "outputs": [
    {
     "name": "stderr",
     "output_type": "stream",
     "text": [
      "                                                                                \r"
     ]
    },
    {
     "name": "stdout",
     "output_type": "stream",
     "text": [
      "Range of Accepted Transaction Value per order: $1.80 - $2110.07\n",
      "+-------+------------+------------------+--------------------+--------------+------------------+\n",
      "|user_id|merchant_abn|      dollar_value|            order_id|order_datetime|  log_dollar_value|\n",
      "+-------+------------+------------------+--------------------+--------------+------------------+\n",
      "|  18478| 62191208634|63.255848959735246|949a63c8-29f7-4ab...|    2021-08-20|4.1471875970039065|\n",
      "|      2| 15549624934| 130.3505283105634|6a84c3cf-612a-457...|    2021-08-20| 4.870227193386743|\n",
      "|  18479| 64403598239|120.15860593212783|b10dcc33-e53f-425...|    2021-08-20| 4.788812586185273|\n",
      "|      3| 60956456424| 136.6785200286976|0f09c5a5-784e-447...|    2021-08-20| 4.917631599186548|\n",
      "|  18479| 94493496784| 72.96316578355305|f6c78c1a-4600-4c5...|    2021-08-20| 4.289954735498426|\n",
      "|      3| 76819856970|  448.529684285612|5ace6a24-cdf0-4aa...|    2021-08-20|6.1059748650068055|\n",
      "|  18479| 67609108741|  86.4040605836911|d0e180f0-cb06-42a...|    2021-08-20| 4.459034672202087|\n",
      "|      3| 34096466752| 301.5793450525113|6fb1ff48-24bb-4f9...|    2021-08-20| 5.709033149214724|\n",
      "|  18482| 70501974849| 68.75486276223054|8505fb33-b69a-412...|    2021-08-20| 4.230547465132345|\n",
      "|      4| 49891706470| 48.89796461900801|ed11e477-b09f-4ae...|    2021-08-20| 3.889735772281382|\n",
      "|  18482| 46804135891|6.6168976971833615|05b5edb5-b925-414...|    2021-08-20|1.8896266343064105|\n",
      "|      7| 33064796871| 373.0873675184212|fe188788-b89f-4dd...|    2021-08-20| 5.921812621488329|\n",
      "|  18483| 44160392990| 83.98473054761176|7c44302d-98b3-48b...|    2021-08-20| 4.430635003124375|\n",
      "|      7| 68435002949| 232.5364986739752|b4a89891-a113-45e...|    2021-08-20| 5.449047196250763|\n",
      "|  18484| 70033549200| 871.7678061729196|4b1d941a-21a1-43e...|    2021-08-20| 6.770523111126245|\n",
      "|      7| 41944909975|30.910755230234322|302ae628-8eba-4a5...|    2021-08-20|3.4311041890462612|\n",
      "|  18485| 41705715409| 309.5417224575787|67f4f98e-3149-4e8...|    2021-08-20| 5.735092889041008|\n",
      "|      8| 29566626791| 74.15732460440282|71a81652-cc91-4bf...|    2021-08-20| 4.306188844614435|\n",
      "|  18487| 32361057556|119.19055863068847|15577921-1104-470...|    2021-08-20| 4.780723545375894|\n",
      "|      9| 47663262928| 36.69873283148887|c4fcb49a-ce87-4e1...|    2021-08-20| 3.602742226712081|\n",
      "+-------+------------+------------------+--------------------+--------------+------------------+\n",
      "only showing top 20 rows\n",
      "\n"
     ]
    }
   ],
   "source": [
    "import numpy as np\n",
    "from pyspark.sql import functions as F\n",
    "\n",
    "# Log-transform the dollar_value\n",
    "transactions = transactions.withColumn('log_dollar_value', F.log(F.col('dollar_value')))\n",
    "\n",
    "# Calculate Q1 (25th percentile) and Q3 (75th percentile) in a single step using approxQuantile\n",
    "lwr, upr = transactions.approxQuantile('log_dollar_value', [0.25, 0.75], 0.01)\n",
    "\n",
    "# Calculate IQR\n",
    "iqr = upr - lwr\n",
    "\n",
    "# Determine lower and upper bounds for outliers using the 1.5 * IQR rule\n",
    "lwr_bound = lwr - 1.5 * iqr\n",
    "upr_bound = upr + 1.5 * iqr\n",
    "\n",
    "# Revert the log-transformation to get the actual value of the bounds\n",
    "lwr_bound, upr_bound = np.exp(lwr_bound), np.exp(upr_bound)\n",
    "\n",
    "# Print the bounds\n",
    "print(f\"Range of Accepted Transaction Value per order: ${lwr_bound:.2f} - ${upr_bound:.2f}\")\n",
    "\n",
    "# Filter transactions within the bounds\n",
    "transactions = transactions.filter(\n",
    "    (F.col('dollar_value') >= lwr_bound) & (F.col('dollar_value') <= upr_bound)\n",
    ")\n",
    "\n",
    "# Show filtered transactions\n",
    "transactions.show()"
   ]
  },
  {
   "cell_type": "markdown",
   "metadata": {},
   "source": [
    "### "
   ]
  },
  {
   "cell_type": "markdown",
   "metadata": {},
   "source": [
    "### The range now is smaller and seem to be more reasonable. We know that firm like Afterpay has a starting max cap of 500 but if the historical track is good, user can be consider for up to 1500 or 2000 but no more."
   ]
  },
  {
   "cell_type": "code",
   "execution_count": 11,
   "metadata": {},
   "outputs": [
    {
     "name": "stderr",
     "output_type": "stream",
     "text": [
      "                                                                                \r"
     ]
    },
    {
     "data": {
      "image/png": "[encoded data removed]",
      "text/plain": [
       "<Figure size 1000x600 with 1 Axes>"
      ]
     },
     "metadata": {},
     "output_type": "display_data"
    }
   ],
   "source": [
    "import matplotlib.pyplot as plt\n",
    "\n",
    "dollar_values = transactions.select(\"dollar_value\").sample(fraction=0.2).toPandas()\n",
    "\n",
    "# Plotting the distribution of transaction dollar values\n",
    "plt.figure(figsize=(10,6))\n",
    "plt.hist(dollar_values['dollar_value'], bins=50, edgecolor='k', alpha=0.7)\n",
    "plt.title(\"Distribution of Transaction Dollar Values\")\n",
    "plt.xlabel(\"Dollar Value\")\n",
    "plt.ylabel(\"Frequency\")\n",
    "plt.grid(True)\n",
    "plt.show()"
   ]
  },
  {
   "cell_type": "code",
   "execution_count": 12,
   "metadata": {},
   "outputs": [
    {
     "name": "stderr",
     "output_type": "stream",
     "text": [
      "[Stage 31:==================================>                     (16 + 8) / 26]\r"
     ]
    },
    {
     "name": "stdout",
     "output_type": "stream",
     "text": [
      "Dataset Sizes (Rows, Columns): \n",
      "\n",
      "       \t Transactions Data  : (13895038, 6) \n",
      "\n"
     ]
    },
    {
     "name": "stderr",
     "output_type": "stream",
     "text": [
      "                                                                                \r"
     ]
    }
   ],
   "source": [
    "# Print transactions dataset shapes (Rows, Columns)\n",
    "print(f\"Dataset Sizes (Rows, Columns): \\n\\n \\\n",
    "      \\t Transactions Data  : {(transactions.count(), len(transactions.columns))} \\n\")"
   ]
  },
  {
   "cell_type": "code",
   "execution_count": 13,
   "metadata": {},
   "outputs": [
    {
     "name": "stderr",
     "output_type": "stream",
     "text": [
      "[Stage 34:=================================================>      (23 + 3) / 26]\r"
     ]
    },
    {
     "name": "stdout",
     "output_type": "stream",
     "text": [
      "+-------+------------+------------+--------+--------------+----------------+\n",
      "|user_id|merchant_abn|dollar_value|order_id|order_datetime|log_dollar_value|\n",
      "+-------+------------+------------+--------+--------------+----------------+\n",
      "|      0|           0|           0|       0|             0|               0|\n",
      "+-------+------------+------------+--------+--------------+----------------+\n",
      "\n"
     ]
    },
    {
     "name": "stderr",
     "output_type": "stream",
     "text": [
      "                                                                                \r"
     ]
    }
   ],
   "source": [
    "from pyspark.sql import functions as F\n",
    "\n",
    "# Create a new DataFrame with the count of nulls per column\n",
    "null_stats = transactions.select([F.count(F.when(F.col(c).isNull(), c)).alias(c) for c in transactions.columns])\n",
    "\n",
    "# Show the table with the null statistics\n",
    "null_stats.show()"
   ]
  },
  {
   "cell_type": "markdown",
   "metadata": {},
   "source": [
    "# ***Preprocess merchants***"
   ]
  },
  {
   "cell_type": "code",
   "execution_count": 14,
   "metadata": {},
   "outputs": [
    {
     "name": "stdout",
     "output_type": "stream",
     "text": [
      "+----+----+------------+\n",
      "|name|tags|merchant_abn|\n",
      "+----+----+------------+\n",
      "|   0|   0|           0|\n",
      "+----+----+------------+\n",
      "\n"
     ]
    }
   ],
   "source": [
    "# Create a new DataFrame with the count of nulls per column\n",
    "null_stats = merchants.select([F.count(F.when(F.col(c).isNull(), c)).alias(c) for c in merchants.columns])\n",
    "\n",
    "# Show the table with the null statistics\n",
    "null_stats.show()"
   ]
  },
  {
   "cell_type": "markdown",
   "metadata": {},
   "source": [
    "## Remove merchants with no transaction records and transactions with merchant not in our given list"
   ]
  },
  {
   "cell_type": "code",
   "execution_count": 15,
   "metadata": {},
   "outputs": [
    {
     "name": "stderr",
     "output_type": "stream",
     "text": [
      "                                                                                \r"
     ]
    },
    {
     "name": "stdout",
     "output_type": "stream",
     "text": [
      "Number of merchants missing in transactions: 96\n"
     ]
    }
   ],
   "source": [
    "# Get distinct merchant_abn from the transactions dataset\n",
    "transaction_merchant_abn_set = set(transactions.select('merchant_abn')\n",
    "                                              .distinct()\n",
    "                                              .toPandas()['merchant_abn'])\n",
    "\n",
    "# Filter the merchant dataset to find merchants that do NOT appear in the transactions dataset\n",
    "merchants_missing_in_transactions = merchants.filter(~merchants['merchant_abn'].isin(list(transaction_merchant_abn_set)))\n",
    "\n",
    "# Output the result (number of merchants missing in transactions)\n",
    "print(f\"Number of merchants missing in transactions: {merchants_missing_in_transactions.count()}\")"
   ]
  },
  {
   "cell_type": "code",
   "execution_count": 16,
   "metadata": {},
   "outputs": [],
   "source": [
    "# Create a new DataFrame with only the merchants that appear in the transaction dataset\n",
    "merchants = merchants.filter(merchants['merchant_abn'].isin(list(transaction_merchant_abn_set)))"
   ]
  },
  {
   "cell_type": "code",
   "execution_count": 17,
   "metadata": {
    "scrolled": true
   },
   "outputs": [
    {
     "name": "stdout",
     "output_type": "stream",
     "text": [
      "Dataset Sizes (Rows, Columns): \n",
      "\n",
      "       \t Merchants Data  : (3930, 3) \n",
      "\n"
     ]
    }
   ],
   "source": [
    "# Print merchants dataset shapes (Rows, Columns)\n",
    "print(f\"Dataset Sizes (Rows, Columns): \\n\\n \\\n",
    "      \\t Merchants Data  : {(merchants.count(), len(merchants.columns))} \\n\")"
   ]
  },
  {
   "cell_type": "markdown",
   "metadata": {},
   "source": [
    "## Save curated dataset"
   ]
  },
  {
   "cell_type": "code",
   "execution_count": 18,
   "metadata": {},
   "outputs": [
    {
     "name": "stderr",
     "output_type": "stream",
     "text": [
      "24/09/29 20:27:19 WARN MemoryManager: Total allocation exceeds 95.00% (1,020,054,720 bytes) of heap memory\n",
      "Scaling row group sizes to 95.00% for 8 writers\n",
      "24/09/29 20:27:22 WARN MemoryManager: Total allocation exceeds 95.00% (1,020,054,720 bytes) of heap memory\n",
      "Scaling row group sizes to 95.00% for 8 writers\n",
      "24/09/29 20:27:24 WARN MemoryManager: Total allocation exceeds 95.00% (1,020,054,720 bytes) of heap memory\n",
      "Scaling row group sizes to 95.00% for 8 writers\n",
      "24/09/29 20:27:24 WARN MemoryManager: Total allocation exceeds 95.00% (1,020,054,720 bytes) of heap memory\n",
      "Scaling row group sizes to 95.00% for 8 writers\n",
      "                                                                                \r"
     ]
    }
   ],
   "source": [
    "# Save transactions DataFrame as a Parquet file\n",
    "transactions.write.mode(\"overwrite\").parquet(\"../data/curated/curated_transaction\")\n",
    "\n",
    "# Save merchants DataFrame as a Parquet file\n",
    "merchants.write.mode(\"overwrite\").parquet(\"../data/curated/curated_merchants\")"
   ]
  }
 ],
 "metadata": {
  "kernelspec": {
   "display_name": "Python (myenv)",
   "language": "python",
   "name": "myenv"
  },
  "language_info": {
   "codemirror_mode": {
    "name": "ipython",
    "version": 3
   },
   "file_extension": ".py",
   "mimetype": "text/x-python",
   "name": "python",
   "nbconvert_exporter": "python",
   "pygments_lexer": "ipython3",
   "version": "3.12.6"
  }
 },
 "nbformat": 4,
 "nbformat_minor": 4
}
