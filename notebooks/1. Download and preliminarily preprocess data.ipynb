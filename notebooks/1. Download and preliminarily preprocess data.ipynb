{
 "cells": [
  {
   "cell_type": "markdown",
   "metadata": {},
   "source": [
    "# Download data"
   ]
  },
  {
   "cell_type": "code",
   "execution_count": 1,
   "metadata": {},
   "outputs": [],
   "source": [
    "import os\n",
    "import sys\n",
    "import pandas as pd\n",
    "sys.path.append(\"../\")\n",
    "from pyspark.sql import SparkSession\n",
    "from pyspark.sql.functions import input_file_name, regexp_extract, regexp_replace, to_date\n",
    "from scripts.download import download_synthetic"
   ]
  },
  {
   "cell_type": "code",
   "execution_count": 2,
   "metadata": {},
   "outputs": [],
   "source": [
    "download_synthetic() # download data"
   ]
  },
  {
   "cell_type": "code",
   "execution_count": 3,
   "metadata": {},
   "outputs": [
    {
     "name": "stderr",
     "output_type": "stream",
     "text": [
      "Setting default log level to \"WARN\".\n",
      "To adjust logging level use sc.setLogLevel(newLevel). For SparkR, use setLogLevel(newLevel).\n",
      "24/10/18 08:33:00 WARN NativeCodeLoader: Unable to load native-hadoop library for your platform... using builtin-java classes where applicable\n"
     ]
    }
   ],
   "source": [
    "# Initialize Spark Session\n",
    "spark = SparkSession.builder \\\n",
    "    .appName(\"YourAppName\")  \\\n",
    "    .config(\"spark.executor.memory\", \"4g\") \\\n",
    "    .config(\"spark.executor.cores\", \"2\") \\\n",
    "    .getOrCreate()\n",
    "\n",
    "data_path = \"../data/tables/synthetic/\"\n",
    "\n",
    "# Load data using spark\n",
    "consumer_details = spark.read.parquet(data_path + \"consumer_user_details.parquet\")\n",
    "merchants = spark.read.parquet(data_path + \"tbl_merchants.parquet\")\n",
    "consumer_fraud = spark.read.csv(data_path + \"consumer_fraud_probability.csv\", header=True, inferSchema=True)\n",
    "\n",
    "# Load pandas data frame\n",
    "merchants_fraud = pd.read_csv(data_path + \"merchant_fraud_probability.csv\")\n",
    "consumer = pd.read_csv(data_path + \"tbl_consumer.csv\", sep=\"|\")"
   ]
  },
  {
   "cell_type": "markdown",
   "metadata": {},
   "source": [
    "Next, we want to read the transactions data. Transactions are downloaded individually, and then date of transaction is added manually, since Cloudfront does not allow for the download for entire folders."
   ]
  },
  {
   "cell_type": "code",
   "execution_count": 4,
   "metadata": {},
   "outputs": [],
   "source": [
    "transactions = spark.read.parquet(data_path + \"transactions/\").withColumn(\"order_datetime\", input_file_name())\n",
    "transactions = transactions.withColumn(\"order_datetime\", regexp_extract(input_file_name(), r'[^/]+$', 0)) # new column for date\n",
    "\n",
    "# convert new column into date format\n",
    "transactions = transactions.withColumn(\"order_datetime\", regexp_replace(\"order_datetime\", r'\\.parquet$', ''))\n",
    "transactions = transactions.withColumn(\"order_datetime\", to_date(\"order_datetime\", \"yyyy-MM-dd\"))"
   ]
  },
  {
   "cell_type": "code",
   "execution_count": 5,
   "metadata": {},
   "outputs": [
    {
     "name": "stdout",
     "output_type": "stream",
     "text": [
      "Dataset Sizes (Rows, Columns): \n",
      "\n",
      "       \t Transactions Data  : (14195505, 5) \n",
      "       \t Merchant Records   : (4026, 3) \n",
      "       \t Consumer Data      : (name           499999\n",
      "address        499999\n",
      "state          499999\n",
      "postcode       499999\n",
      "gender         499999\n",
      "consumer_id    499999\n",
      "dtype: int64, 6) \n",
      "       \t User Information   : (499999, 2) \n",
      "       \t Fraud Probabilities: (34864, 3) \n",
      "\n"
     ]
    }
   ],
   "source": [
    "# Print dataset shapes (Rows, Columns)\n",
    "print(f\"Dataset Sizes (Rows, Columns): \\n\\n \\\n",
    "      \\t Transactions Data  : {(transactions.count(), len(transactions.columns))} \\n \\\n",
    "      \\t Merchant Records   : {(merchants.count(), len(merchants.columns))} \\n \\\n",
    "      \\t Consumer Data      : {(consumer.count(), len(consumer.columns))} \\n \\\n",
    "      \\t User Information   : {(consumer_details.count(), len(consumer_details.columns))} \\n \\\n",
    "      \\t Fraud Probabilities: {(consumer_fraud.count(), len(consumer_fraud.columns))} \\n\")"
   ]
  },
  {
   "cell_type": "code",
   "execution_count": 6,
   "metadata": {},
   "outputs": [
    {
     "name": "stdout",
     "output_type": "stream",
     "text": [
      "First 3 rows of consumer_details:\n"
     ]
    },
    {
     "name": "stdout",
     "output_type": "stream",
     "text": [
      "+-------+-----------+\n",
      "|user_id|consumer_id|\n",
      "+-------+-----------+\n",
      "|      1|    1195503|\n",
      "|      2|     179208|\n",
      "|      3|    1194530|\n",
      "+-------+-----------+\n",
      "only showing top 3 rows\n",
      "\n",
      "\n",
      "First 3 rows of merchants:\n",
      "+--------------------+--------------------+------------+\n",
      "|                name|                tags|merchant_abn|\n",
      "+--------------------+--------------------+------------+\n",
      "|       Felis Limited|((furniture, home...| 10023283211|\n",
      "|Arcu Ac Orci Corp...|([cable, satellit...| 10142254217|\n",
      "|    Nunc Sed Company|([jewelry, watch,...| 10165489824|\n",
      "+--------------------+--------------------+------------+\n",
      "only showing top 3 rows\n",
      "\n",
      "\n",
      "First 3 rows of consumer_fraud:\n",
      "+-------+--------------+-----------------+\n",
      "|user_id|order_datetime|fraud_probability|\n",
      "+-------+--------------+-----------------+\n",
      "|   6228|    2021-12-19| 97.6298077657765|\n",
      "|  21419|    2021-12-10|99.24738020302328|\n",
      "|   5606|    2021-10-17|84.05825045251777|\n",
      "+-------+--------------+-----------------+\n",
      "only showing top 3 rows\n",
      "\n",
      "\n",
      "First 3 rows of merchants_fraud:\n",
      "   merchant_abn order_datetime  fraud_probability\n",
      "0   19492220327     2021-11-28          44.403659\n",
      "1   31334588839     2021-10-02          42.755301\n",
      "2   19492220327     2021-12-22          38.867790\n",
      "\n",
      "First 3 rows of consumer:\n",
      "               name                     address state  postcode  gender  \\\n",
      "0  Yolanda Williams  413 Haney Gardens Apt. 742    WA      6935  Female   \n",
      "1        Mary Smith             3764 Amber Oval   NSW      2782  Female   \n",
      "2     Jill Jones MD          40693 Henry Greens    NT       862  Female   \n",
      "\n",
      "   consumer_id  \n",
      "0      1195503  \n",
      "1       179208  \n",
      "2      1194530  \n"
     ]
    }
   ],
   "source": [
    "# Show first 3 rows of each dataframe\n",
    "print(\"First 3 rows of consumer_details:\")\n",
    "consumer_details.show(3)\n",
    "\n",
    "print(\"\\nFirst 3 rows of merchants:\")\n",
    "merchants.show(3)\n",
    "\n",
    "print(\"\\nFirst 3 rows of consumer_fraud:\")\n",
    "consumer_fraud.show(3)\n",
    "\n",
    "print(\"\\nFirst 3 rows of merchants_fraud:\")\n",
    "print(merchants_fraud.head(3))\n",
    "\n",
    "print(\"\\nFirst 3 rows of consumer:\")\n",
    "print(consumer.head(3))"
   ]
  },
  {
   "cell_type": "code",
   "execution_count": 7,
   "metadata": {},
   "outputs": [
    {
     "name": "stdout",
     "output_type": "stream",
     "text": [
      "\n",
      "First 3 rows of transactions:\n",
      "[Row(user_id=14935, merchant_abn=79417999332, dollar_value=136.06570809815838, order_id='23acbb7b-cf98-4580-9775-86b8e0a2bd88', order_datetime=datetime.date(2021, 11, 26)), Row(user_id=1, merchant_abn=46451548968, dollar_value=72.61581642788431, order_id='76bab304-fa2d-4004-8179-8638b56a873e', order_datetime=datetime.date(2021, 11, 26)), Row(user_id=14936, merchant_abn=89518629617, dollar_value=3.0783487174439297, order_id='a2ae446a-2959-41c4-81fd-a30c1efbde0c', order_datetime=datetime.date(2021, 11, 26))]\n"
     ]
    }
   ],
   "source": [
    "print(\"\\nFirst 3 rows of transactions:\")\n",
    "print(transactions.head(3))"
   ]
  },
  {
   "cell_type": "markdown",
   "metadata": {},
   "source": [
    "# ***Preprocess transaction***"
   ]
  },
  {
   "cell_type": "code",
   "execution_count": 8,
   "metadata": {},
   "outputs": [
    {
     "data": {
      "text/plain": [
       "DataFrame[summary: string, user_id: string, merchant_abn: string, dollar_value: string, order_id: string]"
      ]
     },
     "execution_count": 8,
     "metadata": {},
     "output_type": "execute_result"
    }
   ],
   "source": [
    "transactions.describe()"
   ]
  },
  {
   "cell_type": "code",
   "execution_count": 9,
   "metadata": {},
   "outputs": [
    {
     "name": "stderr",
     "output_type": "stream",
     "text": [
      "24/10/18 08:33:14 WARN GarbageCollectionMetrics: To enable non-built-in garbage collector(s) List(G1 Concurrent GC), users should configure it(them) to spark.eventLog.gcMetrics.youngGenerationGarbageCollectors or spark.eventLog.gcMetrics.oldGenerationGarbageCollectors\n"
     ]
    },
    {
     "data": {
      "image/png": "[encoded data removed]",
      "text/plain": [
       "<Figure size 1000x600 with 1 Axes>"
      ]
     },
     "metadata": {},
     "output_type": "display_data"
    }
   ],
   "source": [
    "import matplotlib.pyplot as plt\n",
    "\n",
    "dollar_values = transactions.select(\"dollar_value\").sample(fraction=0.2).toPandas()\n",
    "\n",
    "# Plotting the distribution of transaction dollar values\n",
    "plt.figure(figsize=(10,6))\n",
    "plt.hist(dollar_values['dollar_value'], bins=50, edgecolor='k', alpha=0.7)\n",
    "plt.title(\"Distribution of Transaction Dollar Values\")\n",
    "plt.xlabel(\"Dollar Value\")\n",
    "plt.ylabel(\"Frequency\")\n",
    "plt.grid(True)\n",
    "plt.show()"
   ]
  },
  {
   "cell_type": "markdown",
   "metadata": {},
   "source": [
    "### We observe close to 0 transaction, which is very unlikely due to the lack of product in the range and rational consumer shouldn't lend money for such a small purchase. More than 100,000 dollar transaction also appear, which is unlikely and won't be taken into consideration as the BNPL industry ban transactions of more than few thousands due to the risk involve. Both of these are abnormal and can be sign of fraudulent."
   ]
  },
  {
   "cell_type": "markdown",
   "metadata": {},
   "source": [
    "#### We thus remove outlier. Outliers are defined as data points that fall outside range:\n",
    "𝑄\n",
    "1\n",
    "−\n",
    "1.5\n",
    "×\n",
    "IQR\n",
    "and above:\n",
    "𝑄\n",
    "3\n",
    "+\n",
    "1.5\n",
    "×\n",
    "IQR"
   ]
  },
  {
   "cell_type": "code",
   "execution_count": 10,
   "metadata": {},
   "outputs": [
    {
     "name": "stderr",
     "output_type": "stream",
     "text": [
      "                                                                                \r"
     ]
    },
    {
     "name": "stdout",
     "output_type": "stream",
     "text": [
      "Range of Accepted Transaction Value per order: $1.80 - $2105.04\n",
      "+-------+------------+------------------+--------------------+--------------+------------------+\n",
      "|user_id|merchant_abn|      dollar_value|            order_id|order_datetime|  log_dollar_value|\n",
      "+-------+------------+------------------+--------------------+--------------+------------------+\n",
      "|  14935| 79417999332|136.06570809815838|23acbb7b-cf98-458...|    2021-11-26|  4.91313791683832|\n",
      "|      1| 46451548968| 72.61581642788431|76bab304-fa2d-400...|    2021-11-26| 4.285182755236724|\n",
      "|  14936| 89518629617|3.0783487174439297|a2ae446a-2959-41c...|    2021-11-26| 1.124393322516008|\n",
      "|      1| 49167531725| 51.58228625503599|7080c274-17f7-4cc...|    2021-11-26|3.9431783239190574|\n",
      "|  14936| 31101120643|25.228114942417797|8e301c0f-06ab-45c...|    2021-11-26| 3.227959044935698|\n",
      "|      2| 67978471888| 691.5028234458998|0380e9ad-b0e8-420...|    2021-11-26| 6.538867234170808|\n",
      "|  14936| 60956456424|102.13952056640888|5ac3da9c-5147-452...|    2021-11-26| 4.626339727321747|\n",
      "|      2| 47644196714| 644.5220654863093|4e368e44-86f8-4de...|    2021-11-26| 6.468509058389474|\n",
      "|  14938| 39649557865|209.12780951421405|4d78cd01-4bab-494...|    2021-11-26| 5.342945593833428|\n",
      "|      3| 88402174457| 141.0387993699113|c50c957d-ecfc-430...|    2021-11-26| 4.949035025361318|\n",
      "|  14938| 32234779638|102.04090324888061|e94ff357-b036-493...|    2021-11-26| 4.625373745144278|\n",
      "|      4| 24015173965|             157.0|5b867ac9-d1e0-430...|    2021-11-26| 5.056245805348308|\n",
      "|  14939| 79830510987|246.13590152514766|666909ed-79c2-45b...|    2021-11-26| 5.505883828614856|\n",
      "|      5| 76646764782|35.463129852951695|0c855413-67fa-467...|    2021-11-26|3.5684935610756345|\n",
      "|  14939| 17324645993|24.108258533478818|40fd2f7f-a274-420...|    2021-11-26|3.1825544595337134|\n",
      "|      5| 71041015148| 89.76800577775657|93255de9-c8fe-426...|    2021-11-26| 4.497228628725773|\n",
      "|  14939| 75089928159|14.806519329659501|2c5ba1f3-1c5a-4e5...|    2021-11-26| 2.695067579027783|\n",
      "|      5| 80324045558| 62.79195913018835|564f81c8-c3c1-4f4...|    2021-11-26|4.1398270259482075|\n",
      "|  14939| 50315283629| 575.3321071340728|026c6d3d-4f7c-4f4...|    2021-11-26| 6.354947451688067|\n",
      "|      6| 11566786699|15.856637357709419|0230e104-aef0-48f...|    2021-11-26| 2.763588173406246|\n",
      "+-------+------------+------------------+--------------------+--------------+------------------+\n",
      "only showing top 20 rows\n",
      "\n"
     ]
    }
   ],
   "source": [
    "import numpy as np\n",
    "from pyspark.sql import functions as F\n",
    "\n",
    "# Log-transform the dollar_value\n",
    "transactions = transactions.withColumn('log_dollar_value', F.log(F.col('dollar_value')))\n",
    "\n",
    "# Calculate Q1 (25th percentile) and Q3 (75th percentile) in a single step using approxQuantile\n",
    "lwr, upr = transactions.approxQuantile('log_dollar_value', [0.25, 0.75], 0.01)\n",
    "\n",
    "# Calculate IQR\n",
    "iqr = upr - lwr\n",
    "\n",
    "# Determine lower and upper bounds for outliers using the 1.5 * IQR rule\n",
    "lwr_bound = lwr - 1.5 * iqr\n",
    "upr_bound = upr + 1.5 * iqr\n",
    "\n",
    "# Revert the log-transformation to get the actual value of the bounds\n",
    "lwr_bound, upr_bound = np.exp(lwr_bound), np.exp(upr_bound)\n",
    "\n",
    "# Print the bounds\n",
    "print(f\"Range of Accepted Transaction Value per order: ${lwr_bound:.2f} - ${upr_bound:.2f}\")\n",
    "\n",
    "# Filter transactions within the bounds\n",
    "transactions = transactions.filter(\n",
    "    (F.col('dollar_value') >= lwr_bound) & (F.col('dollar_value') <= upr_bound)\n",
    ")\n",
    "\n",
    "# Show filtered transactions\n",
    "transactions.show()"
   ]
  },
  {
   "cell_type": "markdown",
   "metadata": {},
   "source": [
    "### "
   ]
  },
  {
   "cell_type": "markdown",
   "metadata": {},
   "source": [
    "### The range now is smaller and seem to be more reasonable. We know that firm like Afterpay has a starting max cap of 500 but if the historical track is good, user can be consider for up to 1500 or 2000 but no more."
   ]
  },
  {
   "cell_type": "code",
   "execution_count": 11,
   "metadata": {},
   "outputs": [
    {
     "data": {
      "image/png": "[encoded data removed]",
      "text/plain": [
       "<Figure size 1000x600 with 1 Axes>"
      ]
     },
     "metadata": {},
     "output_type": "display_data"
    }
   ],
   "source": [
    "import matplotlib.pyplot as plt\n",
    "\n",
    "dollar_values = transactions.select(\"dollar_value\").sample(fraction=0.2).toPandas()\n",
    "\n",
    "# Plotting the distribution of transaction dollar values\n",
    "plt.figure(figsize=(10,6))\n",
    "plt.hist(dollar_values['dollar_value'], bins=50, edgecolor='k', alpha=0.7)\n",
    "plt.title(\"Distribution of Transaction Dollar Values\")\n",
    "plt.xlabel(\"Dollar Value\")\n",
    "plt.ylabel(\"Frequency\")\n",
    "plt.grid(True)\n",
    "plt.show()"
   ]
  },
  {
   "cell_type": "code",
   "execution_count": 12,
   "metadata": {},
   "outputs": [
    {
     "name": "stdout",
     "output_type": "stream",
     "text": [
      "Dataset Sizes (Rows, Columns): \n",
      "\n",
      "       \t Transactions Data  : (13894461, 6) \n",
      "\n"
     ]
    }
   ],
   "source": [
    "# Print transactions dataset shapes (Rows, Columns)\n",
    "print(f\"Dataset Sizes (Rows, Columns): \\n\\n \\\n",
    "      \\t Transactions Data  : {(transactions.count(), len(transactions.columns))} \\n\")"
   ]
  },
  {
   "cell_type": "code",
   "execution_count": 13,
   "metadata": {},
   "outputs": [
    {
     "name": "stderr",
     "output_type": "stream",
     "text": [
      "[Stage 29:=====================================================>  (23 + 1) / 24]\r"
     ]
    },
    {
     "name": "stdout",
     "output_type": "stream",
     "text": [
      "+-------+------------+------------+--------+--------------+----------------+\n",
      "|user_id|merchant_abn|dollar_value|order_id|order_datetime|log_dollar_value|\n",
      "+-------+------------+------------+--------+--------------+----------------+\n",
      "|      0|           0|           0|       0|             0|               0|\n",
      "+-------+------------+------------+--------+--------------+----------------+\n",
      "\n"
     ]
    },
    {
     "name": "stderr",
     "output_type": "stream",
     "text": [
      "                                                                                \r"
     ]
    }
   ],
   "source": [
    "from pyspark.sql import functions as F\n",
    "\n",
    "# Create a new DataFrame with the count of nulls per column\n",
    "null_stats = transactions.select([F.count(F.when(F.col(c).isNull(), c)).alias(c) for c in transactions.columns])\n",
    "\n",
    "# Show the table with the null statistics\n",
    "null_stats.show()"
   ]
  },
  {
   "cell_type": "markdown",
   "metadata": {},
   "source": [
    "# ***Preprocess merchants***"
   ]
  },
  {
   "cell_type": "code",
   "execution_count": 14,
   "metadata": {},
   "outputs": [
    {
     "name": "stdout",
     "output_type": "stream",
     "text": [
      "+----+----+------------+\n",
      "|name|tags|merchant_abn|\n",
      "+----+----+------------+\n",
      "|   0|   0|           0|\n",
      "+----+----+------------+\n",
      "\n"
     ]
    }
   ],
   "source": [
    "# Create a new DataFrame with the count of nulls per column\n",
    "null_stats = merchants.select([F.count(F.when(F.col(c).isNull(), c)).alias(c) for c in merchants.columns])\n",
    "\n",
    "# Show the table with the null statistics\n",
    "null_stats.show()"
   ]
  },
  {
   "cell_type": "markdown",
   "metadata": {},
   "source": [
    "## Remove merchants with no transaction records and transactions with merchant not in our given list"
   ]
  },
  {
   "cell_type": "code",
   "execution_count": 15,
   "metadata": {},
   "outputs": [
    {
     "name": "stderr",
     "output_type": "stream",
     "text": [
      "[Stage 35:===================>                                     (8 + 8) / 24]\r"
     ]
    },
    {
     "name": "stderr",
     "output_type": "stream",
     "text": [
      "                                                                                \r"
     ]
    },
    {
     "name": "stdout",
     "output_type": "stream",
     "text": [
      "Number of merchants missing in transactions: 96\n"
     ]
    }
   ],
   "source": [
    "# Get distinct merchant_abn from the transactions dataset\n",
    "transaction_merchant_abn_set = set(transactions.select('merchant_abn')\n",
    "                                              .distinct()\n",
    "                                              .toPandas()['merchant_abn'])\n",
    "\n",
    "# Filter the merchant dataset to find merchants that do NOT appear in the transactions dataset\n",
    "merchants_missing_in_transactions = merchants.filter(~merchants['merchant_abn'].isin(list(transaction_merchant_abn_set)))\n",
    "\n",
    "# Output the result (number of merchants missing in transactions)\n",
    "print(f\"Number of merchants missing in transactions: {merchants_missing_in_transactions.count()}\")"
   ]
  },
  {
   "cell_type": "code",
   "execution_count": 16,
   "metadata": {},
   "outputs": [],
   "source": [
    "# Create a new DataFrame with only the merchants that appear in the transaction dataset\n",
    "merchants = merchants.filter(merchants['merchant_abn'].isin(list(transaction_merchant_abn_set)))"
   ]
  },
  {
   "cell_type": "code",
   "execution_count": 17,
   "metadata": {
    "scrolled": true
   },
   "outputs": [
    {
     "name": "stdout",
     "output_type": "stream",
     "text": [
      "Dataset Sizes (Rows, Columns): \n",
      "\n",
      "       \t Merchants Data  : (3930, 3) \n",
      "\n"
     ]
    }
   ],
   "source": [
    "# Print merchants dataset shapes (Rows, Columns)\n",
    "print(f\"Dataset Sizes (Rows, Columns): \\n\\n \\\n",
    "      \\t Merchants Data  : {(merchants.count(), len(merchants.columns))} \\n\")"
   ]
  },
  {
   "cell_type": "code",
   "execution_count": 18,
   "metadata": {},
   "outputs": [
    {
     "name": "stderr",
     "output_type": "stream",
     "text": [
      "[Stage 47:=====================================>                  (16 + 8) / 24]\r"
     ]
    },
    {
     "name": "stdout",
     "output_type": "stream",
     "text": [
      "Number of transactions after filtering: 13335431\n"
     ]
    },
    {
     "name": "stderr",
     "output_type": "stream",
     "text": [
      "                                                                                \r"
     ]
    }
   ],
   "source": [
    "# Get distinct merchant_abn from the merchants dataset\n",
    "merchant_abn_set = set(merchants.select('merchant_abn')\n",
    "                                 .distinct()\n",
    "                                 .toPandas()['merchant_abn'])\n",
    "\n",
    "# Filter the transactions dataset to remove rows where merchant_abn is not in the merchants dataset\n",
    "transactions = transactions.filter(transactions['merchant_abn'].isin(list(merchant_abn_set)))\n",
    "\n",
    "# Output the result (number of transactions after filtering)\n",
    "print(f\"Number of transactions after filtering: {transactions.count()}\")"
   ]
  },
  {
   "cell_type": "markdown",
   "metadata": {},
   "source": [
    "## Process the tags column"
   ]
  },
  {
   "cell_type": "markdown",
   "metadata": {},
   "source": [
    "#### Since there are 3 values store in the 'tags' column, we will split them into 3 separate columns for analysis."
   ]
  },
  {
   "cell_type": "code",
   "execution_count": 19,
   "metadata": {},
   "outputs": [
    {
     "name": "stdout",
     "output_type": "stream",
     "text": [
      "+--------------------+------------+--------------------+---------+---------+\n",
      "|                name|merchant_abn|                type|rev_level|take_rate|\n",
      "+--------------------+------------+--------------------+---------+---------+\n",
      "|       felis limited| 10023283211|furniture, home f...|        e|     0.18|\n",
      "|arcu ac orci corp...| 10142254217|cable, satellite,...|        b|     4.22|\n",
      "|ultricies digniss...| 10187291046|watch, clock, and...|        b|     3.29|\n",
      "| enim condimentum pc| 10192359162|music shops - mus...|        a|     6.33|\n",
      "|       fusce company| 10206519221|gift, card, novel...|        a|     6.34|\n",
      "+--------------------+------------+--------------------+---------+---------+\n",
      "only showing top 5 rows\n",
      "\n"
     ]
    }
   ],
   "source": [
    "merchants = merchants.withColumn('tags', F.lower(merchants['tags'])) \\\n",
    "                        .withColumn('name', F.lower(merchants['name']))\n",
    "\n",
    "merchants = merchants.withColumn('tags', F.regexp_replace('tags', r'\\[', '('))\n",
    "merchants = merchants.withColumn('tags', F.regexp_replace('tags', r'\\]', ')'))\n",
    "merchants = merchants.withColumn('type', F.split(merchants['tags'], r'\\), \\(').getItem(0)) \\\n",
    "                                   .withColumn('rev_level', F.split(merchants['tags'], r'\\), \\(').getItem(1)) \\\n",
    "                                   .withColumn('take_rate', F.split(merchants['tags'], r'\\), \\(').getItem(2))\n",
    "\n",
    "merchants = merchants.drop('tags')\n",
    "\n",
    "merchants = merchants.withColumn('type', F.regexp_replace('type', r'\\(\\(', ''))\n",
    "\n",
    "merchants = merchants.withColumn('take_rate', F.regexp_replace('take_rate', r'\\)\\)', ''))\n",
    "merchants = merchants.withColumn('take_rate', F.regexp_replace('take_rate', r'take rate: ', ''))\n",
    "merchants = merchants.withColumn('take_rate', merchants['take_rate'].cast('float'))\n",
    "merchants.show(5)"
   ]
  },
  {
   "cell_type": "markdown",
   "metadata": {},
   "source": [
    "## Save curated dataset"
   ]
  },
  {
   "cell_type": "code",
   "execution_count": 20,
   "metadata": {},
   "outputs": [
    {
     "name": "stderr",
     "output_type": "stream",
     "text": [
      "24/10/18 08:34:01 WARN MemoryManager: Total allocation exceeds 95.00% (1,020,054,720 bytes) of heap memory\n",
      "Scaling row group sizes to 95.00% for 8 writers\n",
      "24/10/18 08:34:12 WARN MemoryManager: Total allocation exceeds 95.00% (1,020,054,720 bytes) of heap memory\n",
      "Scaling row group sizes to 95.00% for 8 writers\n",
      "24/10/18 08:34:12 WARN MemoryManager: Total allocation exceeds 95.00% (1,020,054,720 bytes) of heap memory\n",
      "Scaling row group sizes to 95.00% for 8 writers\n",
      "24/10/18 08:34:13 WARN MemoryManager: Total allocation exceeds 95.00% (1,020,054,720 bytes) of heap memory\n",
      "Scaling row group sizes to 95.00% for 8 writers\n",
      "24/10/18 08:34:13 WARN MemoryManager: Total allocation exceeds 95.00% (1,020,054,720 bytes) of heap memory\n",
      "Scaling row group sizes to 95.00% for 8 writers\n",
      "24/10/18 08:34:14 WARN MemoryManager: Total allocation exceeds 95.00% (1,020,054,720 bytes) of heap memory\n",
      "Scaling row group sizes to 95.00% for 8 writers\n",
      "24/10/18 08:34:17 WARN MemoryManager: Total allocation exceeds 95.00% (1,020,054,720 bytes) of heap memory\n",
      "Scaling row group sizes to 95.00% for 8 writers\n",
      "24/10/18 08:34:23 WARN MemoryManager: Total allocation exceeds 95.00% (1,020,054,720 bytes) of heap memory\n",
      "Scaling row group sizes to 95.00% for 8 writers\n",
      "24/10/18 08:34:23 WARN MemoryManager: Total allocation exceeds 95.00% (1,020,054,720 bytes) of heap memory\n",
      "Scaling row group sizes to 95.00% for 8 writers\n",
      "24/10/18 08:34:23 WARN MemoryManager: Total allocation exceeds 95.00% (1,020,054,720 bytes) of heap memory\n",
      "Scaling row group sizes to 95.00% for 8 writers\n",
      "24/10/18 08:34:24 WARN MemoryManager: Total allocation exceeds 95.00% (1,020,054,720 bytes) of heap memory\n",
      "Scaling row group sizes to 95.00% for 8 writers\n",
      "24/10/18 08:34:24 WARN MemoryManager: Total allocation exceeds 95.00% (1,020,054,720 bytes) of heap memory\n",
      "Scaling row group sizes to 95.00% for 8 writers\n",
      "24/10/18 08:34:25 WARN MemoryManager: Total allocation exceeds 95.00% (1,020,054,720 bytes) of heap memory\n",
      "Scaling row group sizes to 95.00% for 8 writers\n",
      "24/10/18 08:34:26 WARN MemoryManager: Total allocation exceeds 95.00% (1,020,054,720 bytes) of heap memory\n",
      "Scaling row group sizes to 95.00% for 8 writers\n",
      "                                                                                \r"
     ]
    }
   ],
   "source": [
    "# Save transactions DataFrame as a Parquet file\n",
    "transactions.write.mode(\"overwrite\").parquet(\"../data/curated/curated_transaction\")\n",
    "\n",
    "# Save merchants DataFrame as a Parquet file\n",
    "merchants.write.mode(\"overwrite\").parquet(\"../data/curated/curated_merchants\")"
   ]
  }
 ],
 "metadata": {
  "kernelspec": {
   "display_name": "base",
   "language": "python",
   "name": "python3"
  },
  "language_info": {
   "codemirror_mode": {
    "name": "ipython",
    "version": 3
   },
   "file_extension": ".py",
   "mimetype": "text/x-python",
   "name": "python",
   "nbconvert_exporter": "python",
   "pygments_lexer": "ipython3",
   "version": "3.12.4"
  }
 },
 "nbformat": 4,
 "nbformat_minor": 4
}
